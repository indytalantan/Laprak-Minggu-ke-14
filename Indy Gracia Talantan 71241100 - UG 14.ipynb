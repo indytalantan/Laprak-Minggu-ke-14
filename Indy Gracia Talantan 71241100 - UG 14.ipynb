{
 "cells": [
  {
   "cell_type": "code",
   "execution_count": null,
   "id": "bf400fb3-7a0e-4f15-87a3-529775c25618",
   "metadata": {},
   "outputs": [
    {
     "name": "stdin",
     "output_type": "stream",
     "text": [
      "Memasukkan nilai a: 2\n",
      "Masukkan Nama Kategori : Productivity\n"
     ]
    },
    {
     "name": "stdout",
     "output_type": "stream",
     "text": [
      "Memasukkan 5 Nama Aplikasi di Kategori Productivity\n"
     ]
    },
    {
     "name": "stdin",
     "output_type": "stream",
     "text": [
      "Nama Aplikasi : Workout\n",
      "Nama Aplikasi : Calculator\n",
      "Nama Aplikasi : Memo\n",
      "Nama Aplikasi : Paypal\n",
      "Nama Aplikasi : Note\n",
      "Masukkan Nama Kategori : Finance\n"
     ]
    },
    {
     "name": "stdout",
     "output_type": "stream",
     "text": [
      "Memasukkan 5 Nama Aplikasi di Kategori Finance\n"
     ]
    },
    {
     "name": "stdin",
     "output_type": "stream",
     "text": [
      "Nama Aplikasi : Paypal\n"
     ]
    }
   ],
   "source": [
    "a = int(input('Memasukkan nilai a:'))\n",
    "\n",
    "data_aplikasi = {}\n",
    "for indy in range(a) :\n",
    "    nama_kategori = input('Masukkan Nama Kategori :')\n",
    "    print('Memasukkan 5 Nama Aplikasi di Kategori', nama_kategori)\n",
    "\n",
    "    aplikasi_nya = []\n",
    "    for ien in range(5) :\n",
    "        nama_aplikasi = input('Nama Aplikasi :')\n",
    "        aplikasi_nya.append(nama_aplikasi)\n",
    "    \n",
    "    data_aplikasi[nama_kategori] = aplikasi_nya\n",
    "print(data_aplikasi)\n",
    "\n",
    "daftar_list_aplikasi = []\n",
    "for aplikasi_nya in data_aplikasi.values() :\n",
    "    daftar_list_aplikasi.append(set(aplikasi_nya))\n",
    "print(daftar_list_aplikasi)\n",
    "\n",
    "total_hasil = daftar_list_aplikasi[0]\n",
    "for indy in range(1, len(daftar_list_aplikasi)) :\n",
    "    total_hasil = total_hasil.intersection(daftar_list_aplikasi[indy])\n",
    "print(total_hasil)\n",
    "print()\n",
    "\n",
    "#Pada daftar list aplikasi yang hanya muncul pada 1 kategori\n",
    "total_hasil2 = daftar_list_aplikasi[0]\n",
    "for indy in range(1, len(daftar_list_aplikasi)) :\n",
    "    total_hasil2 = total_hasil2.symmetric_difference(daftar_list_aplikasi[indy])\n",
    "print('Aplikasi yang Hanya Muncul Pada 1 kategori :', total_hasil2)\n",
    "print()\n",
    "\n",
    "#Untuk a > 2, daftar list aplikasi yang muncul berada pada 2 kategori\n",
    "frekuensi = dict()\n",
    "for indy in daftar_list_aplikasi :\n",
    "    for ien in indy :\n",
    "        if ien not in frekuensi :\n",
    "            frekuensi[ien] = 1\n",
    "        else :\n",
    "            frekuensi[ien] += 1\n",
    "\n",
    "total_hasil3 = set()\n",
    "for indy in frekuensi.keys() :\n",
    "    if frekuensi[indy] == 2 :\n",
    "        total_hasil3.add(indy)\n",
    "\n",
    "print('Aplikasi yang Muncul Berada Pada 2 Kategoi :', total_hasil3)"
   ]
  },
  {
   "cell_type": "code",
   "execution_count": 3,
   "id": "bacbe482-c29f-4dd4-8751-4f6d8c8d8146",
   "metadata": {},
   "outputs": [
    {
     "name": "stdout",
     "output_type": "stream",
     "text": [
      "Program Konversi\n",
      "1. List menjadi Set\n",
      "2. Set menjadi Tuple\n",
      "3. Tuple menjadi Set\n",
      "4. Set menjadi Tuple\n",
      "0. Program berhenti\n",
      "\n"
     ]
    },
    {
     "name": "stdin",
     "output_type": "stream",
     "text": [
      "Memasukkan Menu : 1\n",
      "Memasukkan isi list (disambung ya, tanpa spasi) : 7890\n"
     ]
    },
    {
     "name": "stdout",
     "output_type": "stream",
     "text": [
      "Isi list = ['7', '8', '9', '0']\n",
      "('Setelah dikonversi ke set =', {'8', '7', '0', '9'})\n"
     ]
    },
    {
     "name": "stdin",
     "output_type": "stream",
     "text": [
      "Masukkan Menu : 2\n",
      "Memasukkan isi set (disambung ya, tanpa spasi) : 78901122334455\n"
     ]
    },
    {
     "name": "stdout",
     "output_type": "stream",
     "text": [
      "Isi Set = {'3', '7', '9', '0', '2', '5', '1', '4', '8'}\n",
      "('Setelah di konversi ke list =', ['3', '7', '9', '0', '2', '5', '1', '4', '8'])\n"
     ]
    },
    {
     "name": "stdin",
     "output_type": "stream",
     "text": [
      "Masukkan Menu : 3\n",
      "Memasukkan isi tuple (disambung ya, tanpa spasi) : 7788990011\n"
     ]
    },
    {
     "name": "stdout",
     "output_type": "stream",
     "text": [
      "Isi Tuple = ('7', '7', '8', '8', '9', '9', '0', '0', '1', '1')\n",
      "Setelah di konversi ke Set = {'7', '9', '0', '1', '8'}\n"
     ]
    },
    {
     "name": "stdin",
     "output_type": "stream",
     "text": [
      "Masukkan Menu : 4\n",
      "Memasukkan isi Set (disambung ya, tanpa spasi) : 7788990011\n"
     ]
    },
    {
     "name": "stdout",
     "output_type": "stream",
     "text": [
      "Isi Set = {'7', '9', '0', '1', '8'}\n",
      "Setelah di konversi ke tuple = ('7', '9', '0', '1', '8')\n"
     ]
    },
    {
     "name": "stdin",
     "output_type": "stream",
     "text": [
      "Masukkan Menu : 0\n"
     ]
    }
   ],
   "source": [
    "print(\"\"\"Program Konversi\n",
    "1. List menjadi Set\n",
    "2. Set menjadi Tuple\n",
    "3. Tuple menjadi Set\n",
    "4. Set menjadi Tuple\n",
    "0. Program berhenti\n",
    "\"\"\")\n",
    "\n",
    "indy = int(input('Memasukkan Menu :'))\n",
    "while indy != 0 :\n",
    "    if indy == 1 :\n",
    "        daftarnya = list(input('Memasukkan isi list (disambung ya, tanpa spasi) :'))\n",
    "        print('Isi list =', daftarnya)\n",
    "        print(('Setelah dikonversi ke set =', set(daftarnya)))\n",
    "    elif indy == 2 :\n",
    "        himpunan = set(input('Memasukkan isi set (disambung ya, tanpa spasi) :'))\n",
    "        print('Isi Set =', himpunan)\n",
    "        print(('Setelah di konversi ke list =', list(himpunan)))\n",
    "    elif indy == 3 :\n",
    "        tupl = tuple(input('Memasukkan isi tuple (disambung ya, tanpa spasi) :'))\n",
    "        print('Isi Tuple =', tupl)\n",
    "        print('Setelah di konversi ke Set =', set(tupl))\n",
    "    elif indy == 4 :\n",
    "        himpunan = set(input('Memasukkan isi Set (disambung ya, tanpa spasi) :'))\n",
    "        print('Isi Set =', himpunan)\n",
    "        print('Setelah di konversi ke tuple =', tuple(himpunan))\n",
    "    else :\n",
    "        print('Inputan anda salah')\n",
    "\n",
    "    indy = int(input('Masukkan Menu :'))"
   ]
  },
  {
   "cell_type": "code",
   "execution_count": null,
   "id": "14b8e2e1-d939-4e2d-82cf-9842a9a51ca0",
   "metadata": {},
   "outputs": [],
   "source": [
    "indy = input('Memasukkan Nama File Pertama :')\n",
    "ien = input('Memasukkan Nama File Kedua :')\n",
    "\n",
    "try :\n",
    "    f1 = open(indy)\n",
    "except :\n",
    "    print('File cannot be opened :', indy)\n",
    "    exit()\n",
    "\n",
    "try :\n",
    "    f2 = open(ien)\n",
    "except :\n",
    "    print('File cannot be opened ;', ien)\n",
    "    exit()\n",
    "\n",
    "daftar_kata_nya = []\n",
    "for p in f1 :\n",
    "    p = p.strip()\n",
    "    p = p.split()\n",
    "    for a in p :\n",
    "        a = a.lower()\n",
    "        daftar_kata_nya.append(a)\n",
    "\n",
    "daftar_kata_nya_2 = []\n",
    "for p in f2 :\n",
    "    p = p.strip()\n",
    "    p= p.split()\n",
    "    for a in p :\n",
    "        a = a.lower()\n",
    "        daftar_kata_nya_2.append(a)\n",
    "\n",
    "kata_yang_sama = set(daftar_kata_nya) & set(daftar_kata_nya_2)\n",
    "print('Daftar Kata yang Sama :')\n",
    "for p in kata_yang_sama :\n",
    "    print(p)\n",
    "\n",
    "f1.close()\n",
    "f2.close()"
   ]
  }
 ],
 "metadata": {
  "kernelspec": {
   "display_name": "Python [conda env:base] *",
   "language": "python",
   "name": "conda-base-py"
  },
  "language_info": {
   "codemirror_mode": {
    "name": "ipython",
    "version": 3
   },
   "file_extension": ".py",
   "mimetype": "text/x-python",
   "name": "python",
   "nbconvert_exporter": "python",
   "pygments_lexer": "ipython3",
   "version": "3.12.7"
  }
 },
 "nbformat": 4,
 "nbformat_minor": 5
}
